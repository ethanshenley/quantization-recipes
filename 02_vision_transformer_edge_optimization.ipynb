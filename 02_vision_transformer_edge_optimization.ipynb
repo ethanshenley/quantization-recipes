{
 "cells": [
  {
   "cell_type": "markdown",
   "metadata": {},
   "source": [
    "# Fine-tuning and Quantizing a Vision Transformer for Edge Devices\n",
    "\n",
    "This notebook demonstrates how to optimize a pre-trained Vision Transformer (ViT) model for deployment on edge devices using various quantization and optimization techniques.\n",
    "\n",
    "### Table of Contents\n",
    "\n",
    "1. Setup and Imports\n",
    "2. Load Pre-trained ViT Model\n",
    "3. Prepare Dataset\n",
    "4. Mixed Precision Fine-tuning\n",
    "5. Quantization-Aware Fine-tuning (QAF)\n",
    "6. Pruning for Model Size Reduction\n",
    "7. Layer Fusion\n",
    "8. Efficient Quantized Attention Mechanisms\n",
    "9. Optimization for Target Hardware\n",
    "10. Performance Benchmarking\n"
   ]
  },
  {
   "cell_type": "markdown",
   "metadata": {},
   "source": [
    "## 1. Setup and Imports"
   ]
  },
  {
   "cell_type": "code",
   "execution_count": 3,
   "metadata": {},
   "outputs": [],
   "source": [
    "import torch\n",
    "import torch.nn as nn\n",
    "import torch.optim as optim\n",
    "from torch.utils.data import DataLoader\n",
    "from torchvision import datasets, transforms\n",
    "import timm\n",
    "from timm.data import resolve_data_config\n",
    "from timm.data.transforms_factory import create_transform\n",
    "import numpy as np\n",
    "import matplotlib.pyplot as plt\n",
    "from torch.cuda.amp import autocast, GradScaler"
   ]
  },
  {
   "cell_type": "markdown",
   "metadata": {},
   "source": [
    "## 2. Load Pre-trained ViT Model\n",
    "\n",
    "Now, let's load a pre-trained ViT model:"
   ]
  },
  {
   "cell_type": "code",
   "execution_count": null,
   "metadata": {},
   "outputs": [],
   "source": [
    "model_name = 'vit_base_patch16_224'\n",
    "model = timm.create_model(model_name, pretrained=True)\n",
    "print(f\"Loaded {model_name}\")\n",
    "\n",
    "# Move model to GPU if available\n",
    "device = torch.device(\"cuda\" if torch.cuda.is_available() else \"cpu\")\n",
    "model = model.to(device)\n",
    "\n",
    "# Get the configuration for data preprocessing\n",
    "config = resolve_data_config({}, model=model)\n",
    "transform = create_transform(**config)"
   ]
  },
  {
   "cell_type": "markdown",
   "metadata": {},
   "source": [
    "## 3. Prepare Dataset\n",
    "\n",
    "For this example, we'll use a subset of the CIFAR-10 dataset:"
   ]
  },
  {
   "cell_type": "code",
   "execution_count": null,
   "metadata": {},
   "outputs": [],
   "source": [
    "train_dataset = datasets.CIFAR10(root='./data', train=True, download=True, transform=transform)\n",
    "val_dataset = datasets.CIFAR10(root='./data', train=False, download=True, transform=transform)\n",
    "\n",
    "# Use a subset of the data for faster training\n",
    "train_subset = torch.utils.data.Subset(train_dataset, range(10000))\n",
    "val_subset = torch.utils.data.Subset(val_dataset, range(1000))\n",
    "\n",
    "train_loader = DataLoader(train_subset, batch_size=64, shuffle=True)\n",
    "val_loader = DataLoader(val_subset, batch_size=64, shuffle=False)"
   ]
  },
  {
   "cell_type": "markdown",
   "metadata": {},
   "source": [
    "## 4. Mixed Precision Fine-tuning\n",
    "\n",
    "Let's implement mixed precision training for the initial fine-tuning:"
   ]
  },
  {
   "cell_type": "code",
   "execution_count": null,
   "metadata": {},
   "outputs": [],
   "source": [
    "def train_epoch(model, loader, optimizer, scaler, criterion):\n",
    "    model.train()\n",
    "    total_loss = 0\n",
    "    correct = 0\n",
    "    total = 0\n",
    "    \n",
    "    for inputs, targets in loader:\n",
    "        inputs, targets = inputs.to(device), targets.to(device)\n",
    "        optimizer.zero_grad()\n",
    "        \n",
    "        with autocast():\n",
    "            outputs = model(inputs)\n",
    "            loss = criterion(outputs, targets)\n",
    "        \n",
    "        scaler.scale(loss).backward()\n",
    "        scaler.step(optimizer)\n",
    "        scaler.update()\n",
    "        \n",
    "        total_loss += loss.item()\n",
    "        _, predicted = outputs.max(1)\n",
    "        total += targets.size(0)\n",
    "        correct += predicted.eq(targets).sum().item()\n",
    "    \n",
    "    return total_loss / len(loader), 100. * correct / total\n",
    "\n",
    "def validate(model, loader, criterion):\n",
    "    model.eval()\n",
    "    total_loss = 0\n",
    "    correct = 0\n",
    "    total = 0\n",
    "    \n",
    "    with torch.no_grad():\n",
    "        for inputs, targets in loader:\n",
    "            inputs, targets = inputs.to(device), targets.to(device)\n",
    "            outputs = model(inputs)\n",
    "            loss = criterion(outputs, targets)\n",
    "            \n",
    "            total_loss += loss.item()\n",
    "            _, predicted = outputs.max(1)\n",
    "            total += targets.size(0)\n",
    "            correct += predicted.eq(targets).sum().item()\n",
    "    \n",
    "    return total_loss / len(loader), 100. * correct / total\n",
    "\n",
    "# Fine-tuning setup\n",
    "criterion = nn.CrossEntropyLoss()\n",
    "optimizer = optim.AdamW(model.parameters(), lr=1e-4, weight_decay=1e-2)\n",
    "scaler = GradScaler()\n",
    "\n",
    "# Fine-tuning loop\n",
    "epochs = 5\n",
    "for epoch in range(epochs):\n",
    "    train_loss, train_acc = train_epoch(model, train_loader, optimizer, scaler, criterion)\n",
    "    val_loss, val_acc = validate(model, val_loader, criterion)\n",
    "    print(f\"Epoch {epoch+1}/{epochs}:\")\n",
    "    print(f\"Train Loss: {train_loss:.4f}, Train Acc: {train_acc:.2f}%\")\n",
    "    print(f\"Val Loss: {val_loss:.4f}, Val Acc: {val_acc:.2f}%\")\n",
    "\n",
    "print(\"Mixed precision fine-tuning completed\")"
   ]
  },
  {
   "cell_type": "markdown",
   "metadata": {},
   "source": [
    "## 5. Quantization-Aware Fine-tuning (QAF)\n",
    "\n",
    "Now, let's implement Quantization-Aware Fine-tuning:"
   ]
  },
  {
   "cell_type": "code",
   "execution_count": null,
   "metadata": {},
   "outputs": [],
   "source": [
    "import torch.quantization\n",
    "\n",
    "class QuantizedViT(nn.Module):\n",
    "    def __init__(self, model):\n",
    "        super().__init__()\n",
    "        self.quant = torch.quantization.QuantStub()\n",
    "        self.model = model\n",
    "        self.dequant = torch.quantization.DeQuantStub()\n",
    "    \n",
    "    def forward(self, x):\n",
    "        x = self.quant(x)\n",
    "        x = self.model(x)\n",
    "        x = self.dequant(x)\n",
    "        return x\n",
    "\n",
    "def apply_qaf(model, train_loader, val_loader, epochs=3):\n",
    "    # Prepare model for QAT\n",
    "    model.qconfig = torch.quantization.get_default_qat_qconfig('fbgemm')\n",
    "    model_qat = torch.quantization.prepare_qat(model)\n",
    "    \n",
    "    # Keep first and last layers in FP16\n",
    "    model_qat.patch_embed = model.patch_embed\n",
    "    model_qat.head = model.head\n",
    "    \n",
    "    optimizer = optim.AdamW(model_qat.parameters(), lr=1e-5, weight_decay=1e-2)\n",
    "    scaler = GradScaler()\n",
    "    \n",
    "    for epoch in range(epochs):\n",
    "        # Gradually increase quantization noise\n",
    "        model_qat.apply(torch.quantization.disable_observer)\n",
    "        model_qat.apply(torch.quantization.enable_fake_quant)\n",
    "        if epoch > 0:\n",
    "            model_qat.apply(torch.quantization.enable_observer)\n",
    "        \n",
    "        train_loss, train_acc = train_epoch(model_qat, train_loader, optimizer, scaler, criterion)\n",
    "        val_loss, val_acc = validate(model_qat, val_loader, criterion)\n",
    "        print(f\"QAT Epoch {epoch+1}/{epochs}:\")\n",
    "        print(f\"Train Loss: {train_loss:.4f}, Train Acc: {train_acc:.2f}%\")\n",
    "        print(f\"Val Loss: {val_loss:.4f}, Val Acc: {val_acc:.2f}%\")\n",
    "    \n",
    "    # Convert to quantized model\n",
    "    model_quantized = torch.quantization.convert(model_qat.eval(), inplace=False)\n",
    "    return model_quantized\n",
    "\n",
    "model_quantized = apply_qaf(model, train_loader, val_loader)\n",
    "print(\"Quantization-Aware Fine-tuning completed\")"
   ]
  },
  {
   "cell_type": "markdown",
   "metadata": {},
   "source": [
    "## 6. Pruning for Model Size Reduction\n",
    "\n",
    "Let's implement attention head pruning:"
   ]
  },
  {
   "cell_type": "code",
   "execution_count": null,
   "metadata": {},
   "outputs": [],
   "source": [
    "def prune_attention_heads(model, prune_ratio=0.3):\n",
    "    for module in model.modules():\n",
    "        if isinstance(module, timm.models.vision_transformer.Attention):\n",
    "            num_heads = module.num_heads\n",
    "            num_prune = int(num_heads * prune_ratio)\n",
    "            head_importance = torch.norm(module.qkv.weight.view(3, num_heads, -1), dim=2)\n",
    "            head_importance = head_importance.mean(dim=0)\n",
    "            _, indices = torch.topk(head_importance, k=num_prune, largest=False)\n",
    "            \n",
    "            # Create a mask to zero out pruned heads\n",
    "            mask = torch.ones(num_heads)\n",
    "            mask[indices] = 0\n",
    "            mask = mask.repeat(3).unsqueeze(1).unsqueeze(1)\n",
    "            \n",
    "            # Apply mask to weights and bias\n",
    "            module.qkv.weight.data *= mask\n",
    "            if module.qkv.bias is not None:\n",
    "                module.qkv.bias.data *= mask.squeeze()\n",
    "\n",
    "prune_attention_heads(model_quantized)\n",
    "print(\"Attention head pruning completed\")"
   ]
  },
  {
   "cell_type": "markdown",
   "metadata": {},
   "source": [
    "## 7. Layer Fusion\n",
    "\n",
    "For layer fusion, we'll focus on fusing batch normalization layers:"
   ]
  },
  {
   "cell_type": "code",
   "execution_count": null,
   "metadata": {},
   "outputs": [],
   "source": [
    "def fuse_bn_recursively(model):\n",
    "    for module_name, module in model.named_children():\n",
    "        if list(module.named_children()):\n",
    "            fuse_bn_recursively(module)\n",
    "        if isinstance(module, torch.nn.BatchNorm2d):\n",
    "            setattr(model, module_name, torch.nn.Identity())\n",
    "\n",
    "fuse_bn_recursively(model_quantized)\n",
    "print(\"Layer fusion completed\")"
   ]
  },
  {
   "cell_type": "markdown",
   "metadata": {},
   "source": [
    "## 8. Efficient Quantized Attention Mechanisms\n",
    "\n",
    "We've already implemented quantized attention mechanisms in our QAF process. Here's a function to verify the quantization:"
   ]
  },
  {
   "cell_type": "code",
   "execution_count": null,
   "metadata": {},
   "outputs": [],
   "source": [
    "def verify_quantized_attention(model):\n",
    "    for module in model.modules():\n",
    "        if isinstance(module, timm.models.vision_transformer.Attention):\n",
    "            print(f\"Attention module: {module}\")\n",
    "            print(f\"QKV weight quantized: {isinstance(module.qkv.weight, torch.quantization.Quantized)}\")\n",
    "            print(f\"Projection weight quantized: {isinstance(module.proj.weight, torch.quantization.Quantized)}\")\n",
    "\n",
    "verify_quantized_attention(model_quantized)"
   ]
  },
  {
   "cell_type": "markdown",
   "metadata": {},
   "source": [
    "## 9. Optimization for Target Hardware\n",
    "\n",
    "For this step, we'll use TorchScript to optimize the model for deployment:"
   ]
  },
  {
   "cell_type": "code",
   "execution_count": null,
   "metadata": {},
   "outputs": [],
   "source": [
    "def optimize_for_mobile(model):\n",
    "    model.eval()\n",
    "    example_input = torch.rand(1, 3, 224, 224).to(device)\n",
    "    traced_model = torch.jit.trace(model, example_input)\n",
    "    optimized_model = torch.jit.optimize_for_mobile(traced_model)\n",
    "    return optimized_model\n",
    "\n",
    "optimized_model = optimize_for_mobile(model_quantized)\n",
    "optimized_model.save(\"optimized_vit_edge.pt\")\n",
    "print(\"Model optimized and saved for mobile deployment\")"
   ]
  },
  {
   "cell_type": "markdown",
   "metadata": {},
   "source": [
    "## 10. Performance Benchmarking\n",
    "\n",
    "Finally, let's benchmark our optimized model:"
   ]
  },
  {
   "cell_type": "code",
   "execution_count": null,
   "metadata": {},
   "outputs": [],
   "source": [
    "def benchmark(model, input_shape, num_runs=100):\n",
    "    model.eval()\n",
    "    input_tensor = torch.rand(input_shape).to(device)\n",
    "    \n",
    "    start_time = torch.cuda.Event(enable_timing=True)\n",
    "    end_time = torch.cuda.Event(enable_timing=True)\n",
    "    \n",
    "    with torch.no_grad():\n",
    "        # Warm-up run\n",
    "        for _ in range(10):\n",
    "            _ = model(input_tensor)\n",
    "        \n",
    "        # Timed runs\n",
    "        start_time.record()\n",
    "        for _ in range(num_runs):\n",
    "            _ = model(input_tensor)\n",
    "        end_time.record()\n",
    "    \n",
    "    torch.cuda.synchronize()\n",
    "    elapsed_time = start_time.elapsed_time(end_time) / num_runs\n",
    "    return elapsed_time\n",
    "\n",
    "original_time = benchmark(model, (1, 3, 224, 224))\n",
    "quantized_time = benchmark(model_quantized, (1, 3, 224, 224))\n",
    "optimized_time = benchmark(optimized_model, (1, 3, 224, 224))\n",
    "\n",
    "print(f\"Original model inference time: {original_time:.2f} ms\")\n",
    "print(f\"Quantized model inference time: {quantized_time:.2f} ms\")\n",
    "print(f\"Optimized model inference time: {optimized_time:.2f} ms\")\n",
    "print(f\"Speedup: {original_time / optimized_time:.2f}x\")"
   ]
  }
 ],
 "metadata": {
  "kernelspec": {
   "display_name": "test",
   "language": "python",
   "name": "python3"
  },
  "language_info": {
   "codemirror_mode": {
    "name": "ipython",
    "version": 3
   },
   "file_extension": ".py",
   "mimetype": "text/x-python",
   "name": "python",
   "nbconvert_exporter": "python",
   "pygments_lexer": "ipython3",
   "version": "3.10.14"
  }
 },
 "nbformat": 4,
 "nbformat_minor": 2
}
