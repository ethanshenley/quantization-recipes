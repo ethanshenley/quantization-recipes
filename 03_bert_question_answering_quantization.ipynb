{
 "cells": [
  {
   "cell_type": "markdown",
   "metadata": {},
   "source": [
    "# Quantizing a BERT-based Model for Question Answering\n",
    "\n",
    "This notebook demonstrates how to optimize a pre-trained BERT model for question answering tasks using various quantization techniques.\n",
    "\n",
    "\n",
    "### Table of Contents\n",
    "\n",
    "1. Setup and Imports\n",
    "2. Load Pre-trained BERT Model and QA Dataset\n",
    "3. Fine-tune with Mixed Precision\n",
    "4. Apply Post-Training Quantization (PTQ)\n",
    "5. Implement Per-Token Quantization\n",
    "6. Quantized Layer Normalization\n",
    "7. Dynamic Quantization for Variable Sequence Lengths\n",
    "8. Optimize Quantized Attention Mechanism\n",
    "9. Deploy with Quantization-Aware Inference Framework\n",
    "10. Performance Benchmarking"
   ]
  },
  {
   "cell_type": "markdown",
   "metadata": {},
   "source": [
    "## 1. Setup and Imports\n",
    "\n",
    "First, let's import the necessary libraries:"
   ]
  },
  {
   "cell_type": "code",
   "execution_count": 8,
   "metadata": {},
   "outputs": [],
   "source": [
    "import torch\n",
    "import torch.nn as nn\n",
    "from torch.utils.data import DataLoader\n",
    "from transformers import BertForQuestionAnswering, BertTokenizerFast, squad_convert_examples_to_features\n",
    "from transformers import AdamW, get_linear_schedule_with_warmup\n",
    "from transformers import DataCollatorWithPadding\n",
    "from datasets import load_dataset\n",
    "import numpy as np\n",
    "from torch.cuda.amp import autocast, GradScaler\n",
    "import math"
   ]
  },
  {
   "cell_type": "markdown",
   "metadata": {},
   "source": [
    "## 2. Load Pre-trained BERT Model and QA Dataset\n",
    "\n",
    "Now, let's load a pre-trained BERT model and the SQuAD dataset:"
   ]
  },
  {
   "cell_type": "code",
   "execution_count": 9,
   "metadata": {},
   "outputs": [
    {
     "name": "stderr",
     "output_type": "stream",
     "text": [
      "Some weights of BertForQuestionAnswering were not initialized from the model checkpoint at bert-base-uncased and are newly initialized: ['qa_outputs.bias', 'qa_outputs.weight']\n",
      "You should probably TRAIN this model on a down-stream task to be able to use it for predictions and inference.\n"
     ]
    },
    {
     "data": {
      "application/vnd.jupyter.widget-view+json": {
       "model_id": "424d6450fafa403abfa08cb5a3829ac8",
       "version_major": 2,
       "version_minor": 0
      },
      "text/plain": [
       "Map:   0%|          | 0/10570 [00:00<?, ? examples/s]"
      ]
     },
     "metadata": {},
     "output_type": "display_data"
    },
    {
     "name": "stdout",
     "output_type": "stream",
     "text": [
      "Loaded BERT model and SQuAD dataset\n"
     ]
    }
   ],
   "source": [
    "# Load the model and fast tokenizer\n",
    "model_name = 'bert-base-uncased'\n",
    "model = BertForQuestionAnswering.from_pretrained(model_name)\n",
    "tokenizer = BertTokenizerFast.from_pretrained(model_name)  # Use BertTokenizerFast\n",
    "\n",
    "device = torch.device(\"cuda\" if torch.cuda.is_available() else \"cpu\")\n",
    "model = model.to(device)\n",
    "\n",
    "# Load the SQuAD dataset\n",
    "squad_dataset = load_dataset(\"squad\")\n",
    "\n",
    "# Preprocessing function\n",
    "def preprocess_function(examples):\n",
    "    questions = [q.strip() for q in examples[\"question\"]]\n",
    "    inputs = tokenizer(\n",
    "        questions,\n",
    "        examples[\"context\"],\n",
    "        max_length=384,\n",
    "        truncation=\"only_second\",\n",
    "        stride=128,\n",
    "        return_overflowing_tokens=True,\n",
    "        return_offsets_mapping=True,  # Now supported by the fast tokenizer\n",
    "        padding=\"max_length\",\n",
    "    )\n",
    "    \n",
    "    offset_mapping = inputs.pop(\"offset_mapping\")\n",
    "    sample_map = inputs.pop(\"overflow_to_sample_mapping\")\n",
    "    answers = examples[\"answers\"]\n",
    "    start_positions = []\n",
    "    end_positions = []\n",
    "\n",
    "    for i, offset in enumerate(offset_mapping):\n",
    "        sample_idx = sample_map[i]\n",
    "        answer = answers[sample_idx]\n",
    "        start_char = answer[\"answer_start\"][0]\n",
    "        end_char = answer[\"answer_start\"][0] + len(answer[\"text\"][0])\n",
    "        sequence_ids = inputs.sequence_ids(i)\n",
    "\n",
    "        # Find the start and end of the context\n",
    "        idx = 0\n",
    "        while sequence_ids[idx] != 1:\n",
    "            idx += 1\n",
    "        context_start = idx\n",
    "        while sequence_ids[idx] == 1:\n",
    "            idx += 1\n",
    "        context_end = idx - 1\n",
    "\n",
    "        # If the answer is not fully inside the context, label is (0, 0)\n",
    "        if offset[context_start][0] > start_char or offset[context_end][1] < end_char:\n",
    "            start_positions.append(0)\n",
    "            end_positions.append(0)\n",
    "        else:\n",
    "            # Otherwise it's the start and end token positions\n",
    "            idx = context_start\n",
    "            while idx <= context_end and offset[idx][0] <= start_char:\n",
    "                idx += 1\n",
    "            start_positions.append(idx - 1)\n",
    "\n",
    "            idx = context_end\n",
    "            while idx >= context_start and offset[idx][1] >= end_char:\n",
    "                idx -= 1\n",
    "            end_positions.append(idx + 1)\n",
    "\n",
    "    inputs[\"start_positions\"] = start_positions\n",
    "    inputs[\"end_positions\"] = end_positions\n",
    "    return inputs\n",
    "\n",
    "# Apply preprocessing to the dataset\n",
    "processed_datasets = squad_dataset.map(\n",
    "    preprocess_function,\n",
    "    batched=True,\n",
    "    remove_columns=squad_dataset[\"train\"].column_names,\n",
    ")\n",
    "\n",
    "# Use a data collator to ensure proper batching and padding\n",
    "data_collator = DataCollatorWithPadding(tokenizer)\n",
    "\n",
    "# Prepare dataloaders\n",
    "train_dataloader = DataLoader(processed_datasets[\"train\"], shuffle=True, batch_size=16, collate_fn=data_collator)\n",
    "eval_dataloader = DataLoader(processed_datasets[\"validation\"], batch_size=16, collate_fn=data_collator)\n",
    "\n",
    "print(\"Loaded BERT model and SQuAD dataset\")"
   ]
  },
  {
   "cell_type": "markdown",
   "metadata": {},
   "source": [
    "## 3. Fine-tune with Mixed Precision\n",
    "\n",
    "Let's implement mixed precision training for fine-tuning:"
   ]
  },
  {
   "cell_type": "code",
   "execution_count": 10,
   "metadata": {},
   "outputs": [
    {
     "name": "stderr",
     "output_type": "stream",
     "text": [
      "/tmp/ipykernel_1274896/706944421.py:32: FutureWarning: `torch.cuda.amp.GradScaler(args...)` is deprecated. Please use `torch.amp.GradScaler('cuda', args...)` instead.\n",
      "  scaler = GradScaler()\n",
      "/tmp/ipykernel_1274896/706944421.py:12: FutureWarning: `torch.cuda.amp.autocast(args...)` is deprecated. Please use `torch.amp.autocast('cuda', args...)` instead.\n",
      "  with autocast():\n",
      "/home/ethan/anaconda3/envs/test/lib/python3.10/site-packages/torch/amp/autocast_mode.py:265: UserWarning: User provided device_type of 'cuda', but CUDA is not available. Disabling\n",
      "  warnings.warn(\n"
     ]
    }
   ],
   "source": [
    "def train_epoch(model, dataloader, optimizer, scheduler, scaler):\n",
    "    model.train()\n",
    "    total_loss = 0\n",
    "    for batch in dataloader:\n",
    "        optimizer.zero_grad()\n",
    "        \n",
    "        input_ids = batch['input_ids'].to(device)\n",
    "        attention_mask = batch['attention_mask'].to(device)\n",
    "        start_positions = batch['start_positions'].to(device)\n",
    "        end_positions = batch['end_positions'].to(device)\n",
    "        \n",
    "        with autocast():\n",
    "            outputs = model(input_ids, attention_mask=attention_mask,\n",
    "                            start_positions=start_positions,\n",
    "                            end_positions=end_positions)\n",
    "            loss = outputs.loss\n",
    "\n",
    "        scaler.scale(loss).backward()\n",
    "        scaler.step(optimizer)\n",
    "        scaler.update()\n",
    "        scheduler.step()\n",
    "        \n",
    "        total_loss += loss.item()\n",
    "    \n",
    "    return total_loss / len(dataloader)\n",
    "\n",
    "# Fine-tuning setup\n",
    "optimizer = AdamW(model.parameters(), lr=5e-5)\n",
    "num_epochs = 3\n",
    "num_training_steps = num_epochs * len(train_dataloader)\n",
    "scheduler = get_linear_schedule_with_warmup(optimizer, num_warmup_steps=0, num_training_steps=num_training_steps)\n",
    "scaler = GradScaler()\n",
    "\n",
    "# Fine-tuning loop\n",
    "for epoch in range(num_epochs):\n",
    "    avg_loss = train_epoch(model, train_dataloader, optimizer, scheduler, scaler)\n",
    "    print(f\"Epoch {epoch+1}/{num_epochs}, Average Loss: {avg_loss:.4f}\")\n",
    "\n",
    "print(\"Mixed precision fine-tuning completed\")"
   ]
  },
  {
   "cell_type": "markdown",
   "metadata": {},
   "source": [
    "## 4. Apply Post-Training Quantization (PTQ)\n",
    "\n",
    "Now, let's apply Post-Training Quantization:"
   ]
  },
  {
   "cell_type": "code",
   "execution_count": null,
   "metadata": {},
   "outputs": [],
   "source": [
    "def apply_ptq(model, dataloader):\n",
    "    model.eval()\n",
    "    model.cpu()\n",
    "    model.qconfig = torch.quantization.get_default_qconfig('fbgemm')\n",
    "    \n",
    "    # Keep embeddings and softmax in FP16\n",
    "    model.bert.embeddings.qconfig = None\n",
    "    model.qa_outputs.qconfig = None\n",
    "    \n",
    "    model_prepared = torch.quantization.prepare(model)\n",
    "\n",
    "    # Calibration\n",
    "    with torch.no_grad():\n",
    "        for batch in dataloader:\n",
    "            input_ids = batch['input_ids']\n",
    "            attention_mask = batch['attention_mask']\n",
    "            model_prepared(input_ids, attention_mask=attention_mask)\n",
    "    \n",
    "    model_quantized = torch.quantization.convert(model_prepared)\n",
    "    return model_quantized\n",
    "\n",
    "# Use a subset of the training data for calibration\n",
    "calibration_dataloader = DataLoader(processed_datasets[\"train\"].select(range(1000)), batch_size=16)\n",
    "model_int8 = apply_ptq(model, calibration_dataloader)\n",
    "print(\"Post-Training Quantization completed\")\n"
   ]
  },
  {
   "cell_type": "markdown",
   "metadata": {},
   "source": [
    "## 5. Implement Per-Token Quantization\n",
    "\n",
    "For per-token quantization, we need to modify the BERT encoder:"
   ]
  },
  {
   "cell_type": "code",
   "execution_count": null,
   "metadata": {},
   "outputs": [],
   "source": [
    "class QuantizedBertEncoder(nn.Module):\n",
    "    def __init__(self, encoder):\n",
    "        super().__init__()\n",
    "        self.layer = nn.ModuleList([QuantizedBertLayer(layer) for layer in encoder.layer])\n",
    "\n",
    "    def forward(self, hidden_states, attention_mask=None, head_mask=None):\n",
    "        for i, layer_module in enumerate(self.layer):\n",
    "            layer_outputs = layer_module(hidden_states, attention_mask, head_mask[i])\n",
    "            hidden_states = layer_outputs[0]\n",
    "        return (hidden_states,)\n",
    "\n",
    "class QuantizedBertLayer(nn.Module):\n",
    "    def __init__(self, layer):\n",
    "        super().__init__()\n",
    "        self.attention = layer.attention\n",
    "        self.intermediate = layer.intermediate\n",
    "        self.output = layer.output\n",
    "        self.quant = torch.quantization.QuantStub()\n",
    "        self.dequant = torch.quantization.DeQuantStub()\n",
    "\n",
    "    def forward(self, hidden_states, attention_mask=None, head_mask=None):\n",
    "        hidden_states = self.quant(hidden_states)\n",
    "        attention_outputs = self.attention(hidden_states, attention_mask, head_mask)\n",
    "        attention_output = attention_outputs[0]\n",
    "        intermediate_output = self.intermediate(attention_output)\n",
    "        layer_output = self.output(intermediate_output, attention_output)\n",
    "        layer_output = self.dequant(layer_output)\n",
    "        return (layer_output,) + attention_outputs[1:]\n",
    "\n",
    "model_int8.bert.encoder = QuantizedBertEncoder(model_int8.bert.encoder)\n",
    "print(\"Implemented per-token quantization\")"
   ]
  },
  {
   "cell_type": "markdown",
   "metadata": {},
   "source": [
    "## 6. Quantized Layer Normalization\n",
    "\n",
    "Now, let's implement a quantized version of Layer Normalization:"
   ]
  },
  {
   "cell_type": "code",
   "execution_count": null,
   "metadata": {},
   "outputs": [],
   "source": [
    "class QuantizedLayerNorm(nn.LayerNorm):\n",
    "    def __init__(self, normalized_shape, eps=1e-5, elementwise_affine=True):\n",
    "        super().__init__(normalized_shape, eps, elementwise_affine)\n",
    "        self.quant = torch.quantization.QuantStub()\n",
    "        self.dequant = torch.quantization.DeQuantStub()\n",
    "\n",
    "    def forward(self, input):\n",
    "        input = self.quant(input)\n",
    "        output = super().forward(input)\n",
    "        output = self.dequant(output)\n",
    "        return output\n",
    "\n",
    "def replace_layer_norm(module):\n",
    "    for name, child in module.named_children():\n",
    "        if isinstance(child, nn.LayerNorm):\n",
    "            setattr(module, name, QuantizedLayerNorm(child.normalized_shape, child.eps, child.elementwise_affine))\n",
    "        else:\n",
    "            replace_layer_norm(child)\n",
    "\n",
    "replace_layer_norm(model_int8)\n",
    "print(\"Implemented quantized layer normalization\")"
   ]
  },
  {
   "cell_type": "markdown",
   "metadata": {},
   "source": [
    "## 7. Dynamic Quantization for Variable Sequence Lengths\n",
    "\n",
    "Dynamic quantization is applied at runtime:"
   ]
  },
  {
   "cell_type": "code",
   "execution_count": null,
   "metadata": {},
   "outputs": [],
   "source": [
    "def apply_dynamic_quantization(model):\n",
    "    return torch.quantization.quantize_dynamic(\n",
    "        model, {nn.Linear}, dtype=torch.qint8\n",
    "    )\n",
    "\n",
    "model_dynamic = apply_dynamic_quantization(model_int8)\n",
    "print(\"Applied dynamic quantization\")"
   ]
  },
  {
   "cell_type": "markdown",
   "metadata": {},
   "source": [
    "## 8. Optimize Quantized Attention Mechanism\n",
    "\n",
    "Let's optimize the attention mechanism for quantized inference:"
   ]
  },
  {
   "cell_type": "code",
   "execution_count": null,
   "metadata": {},
   "outputs": [],
   "source": [
    "class OptimizedQuantizedAttention(nn.Module):\n",
    "    def __init__(self, attention):\n",
    "        super().__init__()\n",
    "        self.quant = torch.quantization.QuantStub()\n",
    "        self.dequant = torch.quantization.DeQuantStub()\n",
    "        \n",
    "        # Quantize all linear layers in the attention module\n",
    "        for name, module in attention.named_modules():\n",
    "            if isinstance(module, nn.Linear):\n",
    "                setattr(attention, name, torch.quantization.quantize_dynamic(\n",
    "                    module, {nn.Linear}, dtype=torch.qint8\n",
    "                ))\n",
    "        \n",
    "        self.attention = attention\n",
    "\n",
    "    def forward(self, hidden_states, attention_mask=None, head_mask=None):\n",
    "        hidden_states = self.quant(hidden_states)\n",
    "        outputs = self.attention(hidden_states, attention_mask, head_mask)\n",
    "        outputs = (self.dequant(outputs[0]),) + outputs[1:]\n",
    "        return outputs\n",
    "\n",
    "def replace_attention(module):\n",
    "    for name, child in module.named_children():\n",
    "        if \"attention\" in name.lower():\n",
    "            setattr(module, name, OptimizedQuantizedAttention(child))\n",
    "        else:\n",
    "            replace_attention(child)\n",
    "\n",
    "replace_attention(model_dynamic)\n",
    "print(\"Optimized quantized attention mechanism\")"
   ]
  },
  {
   "cell_type": "markdown",
   "metadata": {},
   "source": [
    "## 9. Deploy with Quantization-Aware Inference Framework\n",
    "\n",
    "For deployment, we'll use TorchScript:"
   ]
  },
  {
   "cell_type": "code",
   "execution_count": null,
   "metadata": {},
   "outputs": [],
   "source": [
    "def deploy_model(model):\n",
    "    model.eval()\n",
    "    example_input = torch.randint(0, 1000, (1, 384)).to(device)\n",
    "    traced_model = torch.jit.trace(model, example_input)\n",
    "    return traced_model\n",
    "\n",
    "deployed_model = deploy_model(model_dynamic)\n",
    "torch.jit.save(deployed_model, \"quantized_bert_qa.pt\")\n",
    "print(\"Model deployed using TorchScript\")"
   ]
  },
  {
   "cell_type": "markdown",
   "metadata": {},
   "source": [
    "## 10. Performance Benchmarking\n",
    "\n",
    "Finally, let's benchmark our optimized model:"
   ]
  },
  {
   "cell_type": "code",
   "execution_count": null,
   "metadata": {},
   "outputs": [],
   "source": [
    "def benchmark(model, input_shape, num_runs=100):\n",
    "    model.eval()\n",
    "    input_tensor = torch.randint(0, 1000, input_shape).to(device)\n",
    "    \n",
    "    start_time = torch.cuda.Event(enable_timing=True)\n",
    "    end_time = torch.cuda.Event(enable_timing=True)\n",
    "    \n",
    "    with torch.no_grad():\n",
    "        # Warm-up run\n",
    "        for _ in range(10):\n",
    "            _ = model(input_tensor)\n",
    "        \n",
    "        # Timed runs\n",
    "        start_time.record()\n",
    "        for _ in range(num_runs):\n",
    "            _ = model(input_tensor)\n",
    "        end_time.record()\n",
    "    \n",
    "    torch.cuda.synchronize()\n",
    "    elapsed_time = start_time.elapsed_time(end_time) / num_runs\n",
    "    return elapsed_time\n",
    "\n",
    "original_time = benchmark(model, (1, 384))\n",
    "quantized_time = benchmark(model_dynamic, (1, 384))\n",
    "deployed_time = benchmark(deployed_model, (1, 384))\n",
    "\n",
    "print(f\"Original model inference time: {original_time:.2f} ms\")\n",
    "print(f\"Quantized model inference time: {quantized_time:.2f} ms\")\n",
    "print(f\"Deployed model inference time: {deployed_time:.2f} ms\")\n",
    "print(f\"Speedup: {original_time / deployed_time:.2f}x\")"
   ]
  }
 ],
 "metadata": {
  "kernelspec": {
   "display_name": "test",
   "language": "python",
   "name": "python3"
  },
  "language_info": {
   "codemirror_mode": {
    "name": "ipython",
    "version": 3
   },
   "file_extension": ".py",
   "mimetype": "text/x-python",
   "name": "python",
   "nbconvert_exporter": "python",
   "pygments_lexer": "ipython3",
   "version": "3.10.14"
  }
 },
 "nbformat": 4,
 "nbformat_minor": 2
}
